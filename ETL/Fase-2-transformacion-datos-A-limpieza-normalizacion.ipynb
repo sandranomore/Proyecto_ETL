{
 "cells": [
  {
   "cell_type": "code",
   "execution_count": 34,
   "metadata": {},
   "outputs": [],
   "source": [
    "# Importamos las librerías necesarias\n",
    "\n",
    "# Tratamiento de datos\n",
    "import pandas as pd\n",
    "import numpy as np\n",
    "\n",
    "# Librería para convertir palabras a numeros\n",
    "from word2number import w2n\n",
    "\n",
    "# Configuración para poder visualizar todas las columnas y filas de los DataFrames\n",
    "pd.set_option('display.max_columns', None)\n",
    "pd.set_option('display.max_rows', None)"
   ]
  },
  {
   "cell_type": "markdown",
   "metadata": {},
   "source": [
    "# Fase 2: Transformación de los datos."
   ]
  },
  {
   "cell_type": "code",
   "execution_count": 35,
   "metadata": {},
   "outputs": [],
   "source": [
    "# Leo archivo CSV\n",
    "hr_raw = pd.read_csv(\"HR RAW DATA.csv\", index_col=0)\n",
    "\n",
    "# Lo guardo en un DataFrame\n",
    "df_hr_raw = pd.DataFrame(hr_raw)\n",
    "\n",
    "# Hago una copia del DataFrame que iré limpiando\n",
    "df_limpia = df_hr_raw.copy()"
   ]
  },
  {
   "cell_type": "markdown",
   "metadata": {},
   "source": [
    "## A. Limpieza, normalización y transformación de datos"
   ]
  },
  {
   "cell_type": "markdown",
   "metadata": {},
   "source": [
    "Este paso incluye la limpieza de datos, la normalización y la conversión de tipos de datos. Tras revisar el csv con los datos en bruto hemos podido observar qué acciones son necesarias llevar a cabo:\n",
    "\n",
    "- ✔️Estandarizar strings\n",
    "    - `BusinessTravel` (object) tiene guiones medios y bajos, estandarizar a guion bajo\n",
    "    - `MaritalStatus` (object) revisar valores con faltas ortograficas\n",
    "- ✔️Revisar que los que tienen que ser numericos no son string u otro tipo\n",
    "    - `Age` (object) cambiar object a valores numéricos (por ej: thirty -> 30)\n",
    "    - `DailyRate` (object) quitar simbolo dolar y pasar a valor numerico. Tener en cuenta que hay strings que ponen `'nan'`\n",
    "    - `HourlyRate` (object) revisar que hacer con los string `'Not available'`\n",
    "    - `MonthlyIncome`  (object) revisar que hacer con los string 'nan', ver si poner FLOAT o INT\n",
    "    - `PerformanceRating`  (object) revisar que hacer con los string 'nan'\n",
    "    - `TOTALWORKINGYEARS` (object) revisar que hacer con los string 'nan'\n",
    "    - `WORKLIFEBALANCE` (object) revisar que hacer con los string 'nan'\n",
    "    - `YearsInCurrentRole` (object) revisar que hacer con los string 'nan'\n",
    "- ✔️Estandarizar valores numericos\n",
    "    - `DistanceFromHome`(int64) tiene valores negativos, quitar\n",
    "- ✔️Estandarizar booleanos o valores binarios\n",
    "    - `Gender` (int64) cambiar 0 y 1 a algo mas legible\n",
    "    - `RemoteWork` (object) estandarizar valores\n",
    "- Revisar que hacer con los string 'nan', campos vacíos o nulos (Fase 2B)\n",
    "    - Columnas anteriores\n",
    "    - `employeenumber` (object) revisar que hacer con los string 'nan'"
   ]
  },
  {
   "cell_type": "markdown",
   "metadata": {},
   "source": [
    "### 1. Primer filtro de eliminación de columnas"
   ]
  },
  {
   "cell_type": "markdown",
   "metadata": {},
   "source": [
    "Elimino las columnas que no aportan información relevante o correcta antes de la primera limpieza, ya que la labor de limpieza puede ser bastante tediosa para ciertas columnas que no son necesarias. Las columnas a revisar antes de eliminar son:\n",
    "\n",
    "- `Department` pocos datos, revisar si eliminar (MANTENER DE MOMENTO)\n",
    "- `employeecount` todos con 1\n",
    "- `Over18` solo hay Y y vacíos, revisar si es necesaria (ya hay una columna con la edad `Age`)\n",
    "- `StandardHours` son 80 o nan, revisar si es necesaria\n",
    "- `Salary` tiene un único valor para todos los registros, 1000000000$\n",
    "- `RoleDepartament` eliminar, información redundantes (ya está el Role y el Department en otras columnas)\n",
    "- `NUMBERCHILDREN` todas vacías, eliminar\n",
    "- `YearsInCurrentRole` alto porcentaje de nulos\n",
    "- `SameAsMonthlyIncome` igual que `MonthlyIncome`\n",
    "\n",
    "Iremos una por una analizando los datos que hay en cada columna para confirmar si hay que eliminarlas o no.\n",
    "\n",
    "- `employeecount`: todos los employees son únicos, no se necesita un conteo. La columna no aporta ninguna informacion relevante por lo que se podría eliminar."
   ]
  },
  {
   "cell_type": "code",
   "execution_count": 36,
   "metadata": {},
   "outputs": [
    {
     "name": "stdout",
     "output_type": "stream",
     "text": [
      "Los valores únicos de la columna 'employeecount' son: [1]\n",
      "Y el porcentaje de nulos es: 0.0\n"
     ]
    }
   ],
   "source": [
    "print(f\"Los valores únicos de la columna 'employeecount' son: {df_limpia['employeecount'].unique()}\")\n",
    "print(f\"Y el porcentaje de nulos es: {df_limpia['employeecount'].isnull().sum() / df_limpia.shape[0]}\")"
   ]
  },
  {
   "cell_type": "markdown",
   "metadata": {},
   "source": [
    "- `Over18`: La edad mínima en la columna `Age` es 18 y no tiene nulos, por lo que todos los employees son mayores de edad. La columna `Over18` debería de tener el valor `Y` (yes) para todas las filas, pero no aporta ninguna información relevante, por lo que también se podría eliminar."
   ]
  },
  {
   "cell_type": "code",
   "execution_count": 37,
   "metadata": {},
   "outputs": [
    {
     "name": "stdout",
     "output_type": "stream",
     "text": [
      "Los valores únicos de la columna 'Over18' son: ['Y' nan]\n",
      "Y el porcentaje de nulos de 'Over18' es: 0.56\n",
      "La edad mínima en la columna 'Age' es: 18\n",
      "Y el porcentaje de nulos de 'Age' es: 0.0\n"
     ]
    }
   ],
   "source": [
    "print(f\"Los valores únicos de la columna 'Over18' son: {df_limpia['Over18'].unique()}\")\n",
    "print(f\"Y el porcentaje de nulos de 'Over18' es: {round(df_limpia['Over18'].isnull().sum() / df_limpia.shape[0],2)}\")\n",
    "print(f\"La edad mínima en la columna 'Age' es: {df_limpia['Age'].min()}\")\n",
    "print(f\"Y el porcentaje de nulos de 'Age' es: {round(df_limpia['Age'].isnull().sum() / df_limpia.shape[0],2)}\")"
   ]
  },
  {
   "cell_type": "markdown",
   "metadata": {},
   "source": [
    "- `StandardHours`: El porcentaje de nulos en esta columna es muy alta y el único valor que tiene diferente al nulo es de 80. Esta columna no aporta información suficiente para poder imputarla, la vamos a eliminar."
   ]
  },
  {
   "cell_type": "code",
   "execution_count": 38,
   "metadata": {},
   "outputs": [
    {
     "name": "stdout",
     "output_type": "stream",
     "text": [
      "Los valores únicos de la columna 'StandardHours' son: [nan '80,0']\n",
      "Y el porcentaje de nulos de 'StandardHours' es: 0.74\n"
     ]
    }
   ],
   "source": [
    "print(f\"Los valores únicos de la columna 'StandardHours' son: {df_limpia['StandardHours'].unique()}\")\n",
    "print(f\"Y el porcentaje de nulos de 'StandardHours' es: {round(df_limpia['StandardHours'].isnull().sum() / df_limpia.shape[0],2)}\")"
   ]
  },
  {
   "cell_type": "markdown",
   "metadata": {},
   "source": [
    "- `Salary`: Tiene un unico valor, 1000000000$. Es un valor demasiado elevado y es el mismo para todos los employees (no hay nulos), por lo que deducimos que son valores erróneos. Eliminaríamos esta columna también por incongruencia."
   ]
  },
  {
   "cell_type": "code",
   "execution_count": 39,
   "metadata": {},
   "outputs": [
    {
     "name": "stdout",
     "output_type": "stream",
     "text": [
      "Los valores únicos de la columna 'Salary' son: ['1000000000$']\n",
      "Y el porcentaje de nulos de 'Salary' es: 0.0\n"
     ]
    }
   ],
   "source": [
    "print(f\"Los valores únicos de la columna 'Salary' son: {df_limpia['Salary'].unique()}\")\n",
    "print(f\"Y el porcentaje de nulos de 'Salary' es: {round(df_limpia['Salary'].isnull().sum() / df_limpia.shape[0],2)}\")"
   ]
  },
  {
   "cell_type": "markdown",
   "metadata": {},
   "source": [
    "- `RoleDepartament`: Esta columna repite la misma información que `Department` y `JobRole` y las combina (nos dan la misma información expresada de forma diferente), pero tiene un alto porcentaje de nulos, el mismo que `Department`. La información que aporta es redundante e incluso insuficiente por la cantidad de nulos, así que también la eliminaríamos."
   ]
  },
  {
   "cell_type": "code",
   "execution_count": 40,
   "metadata": {},
   "outputs": [
    {
     "name": "stdout",
     "output_type": "stream",
     "text": [
      "Y el porcentaje de nulos de 'RoleDepartament' es: 0.81\n",
      "Es el mismo porcentaje nulos que 'Department' es: 0.81\n",
      "\n",
      "Un ejemplo de datos repetidos sería la fila 1428\n",
      "JobRole                       SalES eXecUTiVE \n",
      "Department                              Sales \n",
      "RoleDepartament     SalES eXecUTiVE  -  Sales \n",
      "Name: 1428, dtype: object\n",
      "\n",
      "Un ejemplo de datos nulos sería la fila 0\n",
      "JobRole             resEArch DIREcToR \n",
      "Department                         NaN\n",
      "RoleDepartament                    NaN\n",
      "Name: 0, dtype: object\n"
     ]
    }
   ],
   "source": [
    "print(f\"Y el porcentaje de nulos de 'RoleDepartament' es: {round(df_limpia['RoleDepartament'].isnull().sum() / df_limpia.shape[0],2)}\")\n",
    "print(f\"Es el mismo porcentaje nulos que 'Department' es: {round(df_limpia['Department'].isnull().sum() / df_limpia.shape[0],2)}\\n\")\n",
    "print(f\"Un ejemplo de datos repetidos sería la fila 1428\\n{df_limpia.loc[1428,['JobRole','Department','RoleDepartament']]}\\n\")\n",
    "print(f\"Un ejemplo de datos nulos sería la fila 0\\n{df_limpia.loc[0,['JobRole','Department','RoleDepartament']]}\")"
   ]
  },
  {
   "cell_type": "markdown",
   "metadata": {},
   "source": [
    "- `NUMBERCHILDREN`: Todos los valores de esta columna son nulos, no aporta ninguna información por lo que la eliminaríamos."
   ]
  },
  {
   "cell_type": "code",
   "execution_count": 41,
   "metadata": {},
   "outputs": [
    {
     "name": "stdout",
     "output_type": "stream",
     "text": [
      "El porcentaje de nulos de 'NUMBERCHILDREN' es: 1.0\n"
     ]
    }
   ],
   "source": [
    "print(f\"El porcentaje de nulos de 'NUMBERCHILDREN' es: {round(df_limpia['NUMBERCHILDREN'].isnull().sum() / df_limpia.shape[0],2)}\")"
   ]
  },
  {
   "cell_type": "markdown",
   "metadata": {},
   "source": [
    "- `YearsInCurrentRole` alto porcentaje de nulos, no aporta información suficiente para imputarla, la eliminaríamos."
   ]
  },
  {
   "cell_type": "code",
   "execution_count": 42,
   "metadata": {},
   "outputs": [
    {
     "name": "stdout",
     "output_type": "stream",
     "text": [
      "El porcentaje de nulos de 'YearsInCurrentRole' es: 0.98\n"
     ]
    }
   ],
   "source": [
    "print(f\"El porcentaje de nulos de 'YearsInCurrentRole' es: {round(df_limpia['YearsInCurrentRole'].isnull().sum() / df_limpia.shape[0],2)}\")"
   ]
  },
  {
   "cell_type": "markdown",
   "metadata": {},
   "source": [
    "- `SameAsMonthlyIncome`: Todos los valores de esta columna son iguales a los de `MonthlyIncome`, la información es redundante y se podría eliminar."
   ]
  },
  {
   "cell_type": "code",
   "execution_count": 43,
   "metadata": {},
   "outputs": [
    {
     "name": "stdout",
     "output_type": "stream",
     "text": [
      "Las columnas 'SameAsMonthlyIncome' y 'MonthlyIncome' son iguales: True\n"
     ]
    }
   ],
   "source": [
    "# Comparo las columnas 'SameAsMonthlyIncome' y 'MonthlyIncome' para comprobar si son iguales\n",
    "son_iguales = df_limpia['SameAsMonthlyIncome'].equals(df_limpia['MonthlyIncome'])\n",
    "print(f\"Las columnas 'SameAsMonthlyIncome' y 'MonthlyIncome' son iguales: {son_iguales}\")"
   ]
  },
  {
   "cell_type": "markdown",
   "metadata": {},
   "source": [
    "En este primer filtro elimino las columnas anteriormente analizadas, ya que he comprobado que son redundantes o no aportan información suficiente."
   ]
  },
  {
   "cell_type": "code",
   "execution_count": 44,
   "metadata": {},
   "outputs": [
    {
     "data": {
      "text/html": [
       "<div>\n",
       "<style scoped>\n",
       "    .dataframe tbody tr th:only-of-type {\n",
       "        vertical-align: middle;\n",
       "    }\n",
       "\n",
       "    .dataframe tbody tr th {\n",
       "        vertical-align: top;\n",
       "    }\n",
       "\n",
       "    .dataframe thead th {\n",
       "        text-align: right;\n",
       "    }\n",
       "</style>\n",
       "<table border=\"1\" class=\"dataframe\">\n",
       "  <thead>\n",
       "    <tr style=\"text-align: right;\">\n",
       "      <th></th>\n",
       "      <th>Age</th>\n",
       "      <th>Attrition</th>\n",
       "      <th>BusinessTravel</th>\n",
       "      <th>DailyRate</th>\n",
       "      <th>Department</th>\n",
       "      <th>DistanceFromHome</th>\n",
       "      <th>Education</th>\n",
       "      <th>EducationField</th>\n",
       "      <th>employeenumber</th>\n",
       "      <th>EnvironmentSatisfaction</th>\n",
       "      <th>Gender</th>\n",
       "      <th>HourlyRate</th>\n",
       "      <th>JobInvolvement</th>\n",
       "      <th>JobLevel</th>\n",
       "      <th>JobRole</th>\n",
       "      <th>JobSatisfaction</th>\n",
       "      <th>MaritalStatus</th>\n",
       "      <th>MonthlyIncome</th>\n",
       "      <th>MonthlyRate</th>\n",
       "      <th>NUMCOMPANIESWORKED</th>\n",
       "      <th>OverTime</th>\n",
       "      <th>PercentSalaryHike</th>\n",
       "      <th>PerformanceRating</th>\n",
       "      <th>RelationshipSatisfaction</th>\n",
       "      <th>StockOptionLevel</th>\n",
       "      <th>TOTALWORKINGYEARS</th>\n",
       "      <th>TrainingTimesLastYear</th>\n",
       "      <th>WORKLIFEBALANCE</th>\n",
       "      <th>YearsAtCompany</th>\n",
       "      <th>YearsSinceLastPromotion</th>\n",
       "      <th>YEARSWITHCURRMANAGER</th>\n",
       "      <th>DateBirth</th>\n",
       "      <th>RemoteWork</th>\n",
       "    </tr>\n",
       "  </thead>\n",
       "  <tbody>\n",
       "    <tr>\n",
       "      <th>0</th>\n",
       "      <td>51</td>\n",
       "      <td>No</td>\n",
       "      <td>NaN</td>\n",
       "      <td>684,0$</td>\n",
       "      <td>NaN</td>\n",
       "      <td>6</td>\n",
       "      <td>3</td>\n",
       "      <td>NaN</td>\n",
       "      <td>162,0</td>\n",
       "      <td>1</td>\n",
       "      <td>0</td>\n",
       "      <td>51</td>\n",
       "      <td>3</td>\n",
       "      <td>5</td>\n",
       "      <td>resEArch DIREcToR</td>\n",
       "      <td>3</td>\n",
       "      <td>NaN</td>\n",
       "      <td>19537,0</td>\n",
       "      <td>6462</td>\n",
       "      <td>7</td>\n",
       "      <td>No</td>\n",
       "      <td>13</td>\n",
       "      <td>3,0</td>\n",
       "      <td>3</td>\n",
       "      <td>0</td>\n",
       "      <td>NaN</td>\n",
       "      <td>5</td>\n",
       "      <td>3,0</td>\n",
       "      <td>20</td>\n",
       "      <td>15</td>\n",
       "      <td>15</td>\n",
       "      <td>1972</td>\n",
       "      <td>Yes</td>\n",
       "    </tr>\n",
       "    <tr>\n",
       "      <th>1</th>\n",
       "      <td>52</td>\n",
       "      <td>No</td>\n",
       "      <td>NaN</td>\n",
       "      <td>699,0$</td>\n",
       "      <td>NaN</td>\n",
       "      <td>1</td>\n",
       "      <td>4</td>\n",
       "      <td>Life Sciences</td>\n",
       "      <td>259,0</td>\n",
       "      <td>3</td>\n",
       "      <td>0</td>\n",
       "      <td>65</td>\n",
       "      <td>2</td>\n",
       "      <td>5</td>\n",
       "      <td>ManAGeR</td>\n",
       "      <td>3</td>\n",
       "      <td>NaN</td>\n",
       "      <td>19999,0</td>\n",
       "      <td>5678</td>\n",
       "      <td>0</td>\n",
       "      <td>NaN</td>\n",
       "      <td>14</td>\n",
       "      <td>3,0</td>\n",
       "      <td>1</td>\n",
       "      <td>1</td>\n",
       "      <td>34,0</td>\n",
       "      <td>5</td>\n",
       "      <td>3,0</td>\n",
       "      <td>33</td>\n",
       "      <td>11</td>\n",
       "      <td>9</td>\n",
       "      <td>1971</td>\n",
       "      <td>1</td>\n",
       "    </tr>\n",
       "    <tr>\n",
       "      <th>2</th>\n",
       "      <td>42</td>\n",
       "      <td>No</td>\n",
       "      <td>travel_rarely</td>\n",
       "      <td>532,0$</td>\n",
       "      <td>Research &amp; Development</td>\n",
       "      <td>4</td>\n",
       "      <td>2</td>\n",
       "      <td>Technical Degree</td>\n",
       "      <td>319,0</td>\n",
       "      <td>3</td>\n",
       "      <td>0</td>\n",
       "      <td>58</td>\n",
       "      <td>3</td>\n",
       "      <td>5</td>\n",
       "      <td>ManaGER</td>\n",
       "      <td>4</td>\n",
       "      <td>Married</td>\n",
       "      <td>19232,0</td>\n",
       "      <td>4933</td>\n",
       "      <td>1</td>\n",
       "      <td>No</td>\n",
       "      <td>11</td>\n",
       "      <td>3,0</td>\n",
       "      <td>4</td>\n",
       "      <td>0</td>\n",
       "      <td>22,0</td>\n",
       "      <td>3</td>\n",
       "      <td>NaN</td>\n",
       "      <td>22</td>\n",
       "      <td>11</td>\n",
       "      <td>15</td>\n",
       "      <td>1981</td>\n",
       "      <td>1</td>\n",
       "    </tr>\n",
       "  </tbody>\n",
       "</table>\n",
       "</div>"
      ],
      "text/plain": [
       "  Age Attrition BusinessTravel DailyRate                Department  \\\n",
       "0  51        No            NaN    684,0$                       NaN   \n",
       "1  52        No            NaN    699,0$                       NaN   \n",
       "2  42        No  travel_rarely    532,0$   Research & Development    \n",
       "\n",
       "   DistanceFromHome  Education    EducationField employeenumber  \\\n",
       "0                 6          3               NaN          162,0   \n",
       "1                 1          4     Life Sciences          259,0   \n",
       "2                 4          2  Technical Degree          319,0   \n",
       "\n",
       "   EnvironmentSatisfaction  Gender HourlyRate  JobInvolvement  JobLevel  \\\n",
       "0                        1       0         51               3         5   \n",
       "1                        3       0         65               2         5   \n",
       "2                        3       0         58               3         5   \n",
       "\n",
       "               JobRole  JobSatisfaction MaritalStatus MonthlyIncome  \\\n",
       "0   resEArch DIREcToR                 3           NaN       19537,0   \n",
       "1             ManAGeR                 3           NaN       19999,0   \n",
       "2             ManaGER                 4       Married       19232,0   \n",
       "\n",
       "   MonthlyRate  NUMCOMPANIESWORKED OverTime  PercentSalaryHike  \\\n",
       "0         6462                   7       No                 13   \n",
       "1         5678                   0      NaN                 14   \n",
       "2         4933                   1       No                 11   \n",
       "\n",
       "  PerformanceRating  RelationshipSatisfaction  StockOptionLevel  \\\n",
       "0               3,0                         3                 0   \n",
       "1               3,0                         1                 1   \n",
       "2               3,0                         4                 0   \n",
       "\n",
       "  TOTALWORKINGYEARS  TrainingTimesLastYear WORKLIFEBALANCE  YearsAtCompany  \\\n",
       "0               NaN                      5             3,0              20   \n",
       "1              34,0                      5             3,0              33   \n",
       "2              22,0                      3             NaN              22   \n",
       "\n",
       "   YearsSinceLastPromotion  YEARSWITHCURRMANAGER  DateBirth RemoteWork  \n",
       "0                       15                    15       1972        Yes  \n",
       "1                       11                     9       1971          1  \n",
       "2                       11                    15       1981          1  "
      ]
     },
     "execution_count": 44,
     "metadata": {},
     "output_type": "execute_result"
    }
   ],
   "source": [
    "columnas_a_eliminar = ['employeecount','Over18','StandardHours','Salary','RoleDepartament','NUMBERCHILDREN','YearsInCurrentRole','SameAsMonthlyIncome']\n",
    "\n",
    "# Elimino las columnas de df_limpia, ya que es la copia del DataFrame que estoy limpiando\n",
    "df_limpia.drop(columnas_a_eliminar, axis = 1, inplace = True)\n",
    "df_limpia.head(3)"
   ]
  },
  {
   "cell_type": "markdown",
   "metadata": {},
   "source": [
    "### 2. Normalizamos el nombre de las columnas"
   ]
  },
  {
   "cell_type": "code",
   "execution_count": 45,
   "metadata": {},
   "outputs": [
    {
     "data": {
      "text/html": [
       "<div>\n",
       "<style scoped>\n",
       "    .dataframe tbody tr th:only-of-type {\n",
       "        vertical-align: middle;\n",
       "    }\n",
       "\n",
       "    .dataframe tbody tr th {\n",
       "        vertical-align: top;\n",
       "    }\n",
       "\n",
       "    .dataframe thead th {\n",
       "        text-align: right;\n",
       "    }\n",
       "</style>\n",
       "<table border=\"1\" class=\"dataframe\">\n",
       "  <thead>\n",
       "    <tr style=\"text-align: right;\">\n",
       "      <th></th>\n",
       "      <th>Age</th>\n",
       "      <th>Attrition</th>\n",
       "      <th>BusinessTravel</th>\n",
       "      <th>DailyRate</th>\n",
       "      <th>Department</th>\n",
       "      <th>DistanceFromHome</th>\n",
       "      <th>Education</th>\n",
       "      <th>EducationField</th>\n",
       "      <th>EmployeeNumber</th>\n",
       "      <th>EnvironmentSatisfaction</th>\n",
       "      <th>Gender</th>\n",
       "      <th>HourlyRate</th>\n",
       "      <th>JobInvolvement</th>\n",
       "      <th>JobLevel</th>\n",
       "      <th>JobRole</th>\n",
       "      <th>JobSatisfaction</th>\n",
       "      <th>MaritalStatus</th>\n",
       "      <th>MonthlyIncome</th>\n",
       "      <th>MonthlyRate</th>\n",
       "      <th>NumCompaniesWorked</th>\n",
       "      <th>OverTime</th>\n",
       "      <th>PercentSalaryHike</th>\n",
       "      <th>PerformanceRating</th>\n",
       "      <th>RelationshipSatisfaction</th>\n",
       "      <th>StockOptionLevel</th>\n",
       "      <th>TotalWorkingYears</th>\n",
       "      <th>TrainingTimesLastYear</th>\n",
       "      <th>WorkLifeBalance</th>\n",
       "      <th>YearsAtCompany</th>\n",
       "      <th>YearsSinceLastPromotion</th>\n",
       "      <th>YearsWithCurrManager</th>\n",
       "      <th>DateBirth</th>\n",
       "      <th>RemoteWork</th>\n",
       "    </tr>\n",
       "  </thead>\n",
       "  <tbody>\n",
       "    <tr>\n",
       "      <th>1588</th>\n",
       "      <td>28</td>\n",
       "      <td>Yes</td>\n",
       "      <td>NaN</td>\n",
       "      <td>654,0$</td>\n",
       "      <td>Research &amp; Development</td>\n",
       "      <td>1</td>\n",
       "      <td>2</td>\n",
       "      <td>NaN</td>\n",
       "      <td>NaN</td>\n",
       "      <td>1</td>\n",
       "      <td>1</td>\n",
       "      <td>67</td>\n",
       "      <td>1</td>\n",
       "      <td>1</td>\n",
       "      <td>reSEArCh sCieNtiST</td>\n",
       "      <td>2</td>\n",
       "      <td>NaN</td>\n",
       "      <td>2216,0</td>\n",
       "      <td>3872</td>\n",
       "      <td>7</td>\n",
       "      <td>Yes</td>\n",
       "      <td>13</td>\n",
       "      <td>3,0</td>\n",
       "      <td>4</td>\n",
       "      <td>0</td>\n",
       "      <td>10,0</td>\n",
       "      <td>4</td>\n",
       "      <td>3,0</td>\n",
       "      <td>7</td>\n",
       "      <td>3</td>\n",
       "      <td>7</td>\n",
       "      <td>1995</td>\n",
       "      <td>Yes</td>\n",
       "    </tr>\n",
       "    <tr>\n",
       "      <th>821</th>\n",
       "      <td>59</td>\n",
       "      <td>No</td>\n",
       "      <td>non-travel</td>\n",
       "      <td>1420,0$</td>\n",
       "      <td>NaN</td>\n",
       "      <td>2</td>\n",
       "      <td>4</td>\n",
       "      <td>Human Resources</td>\n",
       "      <td>NaN</td>\n",
       "      <td>3</td>\n",
       "      <td>1</td>\n",
       "      <td>32</td>\n",
       "      <td>2</td>\n",
       "      <td>5</td>\n",
       "      <td>MAnAGER</td>\n",
       "      <td>4</td>\n",
       "      <td>NaN</td>\n",
       "      <td>18844,0</td>\n",
       "      <td>21922</td>\n",
       "      <td>9</td>\n",
       "      <td>No</td>\n",
       "      <td>21</td>\n",
       "      <td>4,0</td>\n",
       "      <td>4</td>\n",
       "      <td>1</td>\n",
       "      <td>NaN</td>\n",
       "      <td>3</td>\n",
       "      <td>3,0</td>\n",
       "      <td>3</td>\n",
       "      <td>2</td>\n",
       "      <td>2</td>\n",
       "      <td>1964</td>\n",
       "      <td>0</td>\n",
       "    </tr>\n",
       "    <tr>\n",
       "      <th>681</th>\n",
       "      <td>34</td>\n",
       "      <td>No</td>\n",
       "      <td>NaN</td>\n",
       "      <td>878,0$</td>\n",
       "      <td>NaN</td>\n",
       "      <td>10</td>\n",
       "      <td>4</td>\n",
       "      <td>NaN</td>\n",
       "      <td>277,0</td>\n",
       "      <td>4</td>\n",
       "      <td>0</td>\n",
       "      <td>43</td>\n",
       "      <td>3</td>\n",
       "      <td>1</td>\n",
       "      <td>reseARCh SciEnTiST</td>\n",
       "      <td>3</td>\n",
       "      <td>Divorced</td>\n",
       "      <td>3815,0</td>\n",
       "      <td>5972</td>\n",
       "      <td>1</td>\n",
       "      <td>Yes</td>\n",
       "      <td>17</td>\n",
       "      <td>3,0</td>\n",
       "      <td>4</td>\n",
       "      <td>1</td>\n",
       "      <td>NaN</td>\n",
       "      <td>4</td>\n",
       "      <td>4,0</td>\n",
       "      <td>5</td>\n",
       "      <td>2</td>\n",
       "      <td>0</td>\n",
       "      <td>1989</td>\n",
       "      <td>Yes</td>\n",
       "    </tr>\n",
       "  </tbody>\n",
       "</table>\n",
       "</div>"
      ],
      "text/plain": [
       "     Age Attrition BusinessTravel DailyRate                Department  \\\n",
       "1588  28       Yes            NaN    654,0$   Research & Development    \n",
       "821   59        No     non-travel   1420,0$                       NaN   \n",
       "681   34        No            NaN    878,0$                       NaN   \n",
       "\n",
       "      DistanceFromHome  Education   EducationField EmployeeNumber  \\\n",
       "1588                 1          2              NaN            NaN   \n",
       "821                  2          4  Human Resources            NaN   \n",
       "681                 10          4              NaN          277,0   \n",
       "\n",
       "      EnvironmentSatisfaction  Gender HourlyRate  JobInvolvement  JobLevel  \\\n",
       "1588                        1       1         67               1         1   \n",
       "821                         3       1         32               2         5   \n",
       "681                         4       0         43               3         1   \n",
       "\n",
       "                   JobRole  JobSatisfaction MaritalStatus MonthlyIncome  \\\n",
       "1588   reSEArCh sCieNtiST                 2           NaN        2216,0   \n",
       "821               MAnAGER                 4           NaN       18844,0   \n",
       "681    reseARCh SciEnTiST                 3      Divorced        3815,0   \n",
       "\n",
       "      MonthlyRate  NumCompaniesWorked OverTime  PercentSalaryHike  \\\n",
       "1588         3872                   7      Yes                 13   \n",
       "821         21922                   9       No                 21   \n",
       "681          5972                   1      Yes                 17   \n",
       "\n",
       "     PerformanceRating  RelationshipSatisfaction  StockOptionLevel  \\\n",
       "1588               3,0                         4                 0   \n",
       "821                4,0                         4                 1   \n",
       "681                3,0                         4                 1   \n",
       "\n",
       "     TotalWorkingYears  TrainingTimesLastYear WorkLifeBalance  YearsAtCompany  \\\n",
       "1588              10,0                      4             3,0               7   \n",
       "821                NaN                      3             3,0               3   \n",
       "681                NaN                      4             4,0               5   \n",
       "\n",
       "      YearsSinceLastPromotion  YearsWithCurrManager  DateBirth RemoteWork  \n",
       "1588                        3                     7       1995        Yes  \n",
       "821                         2                     2       1964          0  \n",
       "681                         2                     0       1989        Yes  "
      ]
     },
     "execution_count": 45,
     "metadata": {},
     "output_type": "execute_result"
    }
   ],
   "source": [
    "nombres_snake_case = {\n",
    "    'employeenumber': 'EmployeeNumber',\n",
    "    'NUMCOMPANIESWORKED': 'NumCompaniesWorked',\n",
    "    'TOTALWORKINGYEARS': 'TotalWorkingYears',\n",
    "    'WORKLIFEBALANCE': 'WorkLifeBalance',\n",
    "    'YEARSWITHCURRMANAGER': 'YearsWithCurrManager',\n",
    "}\n",
    "\n",
    "# Renombro las columnas para que todas estén en SnakeCase y sobreescribo el DataFrame usando el método rename\n",
    "df_limpia.rename(columns=nombres_snake_case, inplace=True)\n",
    "df_limpia.sample(3)"
   ]
  },
  {
   "cell_type": "markdown",
   "metadata": {},
   "source": [
    "### 3. Normalizamos los valores de las columnas"
   ]
  },
  {
   "cell_type": "markdown",
   "metadata": {},
   "source": [
    "#### 3.1 Estandarización valores numéricos"
   ]
  },
  {
   "cell_type": "markdown",
   "metadata": {},
   "source": [
    "##### 3.1.1 Columnas con valores categóricos que deberían de ser numéricas\n"
   ]
  },
  {
   "cell_type": "markdown",
   "metadata": {},
   "source": [
    "\n",
    "- `Age`                          object -> num\n",
    "- `DailyRate`                    object -> num\n",
    "- `HourlyRate`                   object -> num\n",
    "- `MonthlyIncome`                object-> num\n",
    "- `PerformanceRating`            object -> num\n",
    "- `TOTALWORKINGYEARS`            object -> num\n",
    "- `WORKLIFEBALANCE`              object -> num\n",
    "- `YearsInCurrentRole`           object -> num"
   ]
  },
  {
   "cell_type": "markdown",
   "metadata": {},
   "source": [
    "- `Age`: Esta columna debería de ser numérica pero contiene algunos valores que son strings (numeros escritos). Creo una función para convertir las palabras a números, para ello me he instalado la librería `from word2number import w2n`"
   ]
  },
  {
   "cell_type": "code",
   "execution_count": 46,
   "metadata": {},
   "outputs": [
    {
     "name": "stdout",
     "output_type": "stream",
     "text": [
      "Los valores únicos de la columna 'Age' son: ['51' '52' '42' '47' '46' '48' '59' '41' '56' '38' '55' '40' '58' '35'\n",
      " '45' '33' '36' '34' 'forty-seven' '53' '43' '60' '32' '37' '49' '39' '50'\n",
      " '44' '30' 'fifty-eight' '29' '31' '54' '57' '27' 'thirty-six' '28' '26'\n",
      " 'fifty-five' '25' 'fifty-two' 'thirty-one' '24' 'thirty' '23' '22' '21'\n",
      " '20' 'twenty-six' '19' 'thirty-seven' '18' 'thirty-two' 'twenty-four']\n",
      "\n",
      "Y los valores nulos que hay en la columna son: 0\n"
     ]
    }
   ],
   "source": [
    "print(f\"Los valores únicos de la columna 'Age' son: {df_limpia['Age'].unique()}\\n\")\n",
    "print(f\"Y los valores nulos que hay en la columna son: {df_limpia['Age'].isnull().sum()}\")"
   ]
  },
  {
   "cell_type": "code",
   "execution_count": 47,
   "metadata": {},
   "outputs": [
    {
     "name": "stdout",
     "output_type": "stream",
     "text": [
      "[51 52 42 47 46 48 59 41 56 38 55 40 58 35 45 33 36 34 53 43 60 32 37 49\n",
      " 39 50 44 30 29 31 54 57 27 28 26 25 24 23 22 21 20 19 18]\n"
     ]
    }
   ],
   "source": [
    "# Función para convertir palabras a números\n",
    "def palabra_a_numero(age):\n",
    "    \n",
    "    # Intento convertir palabra a numero\n",
    "    try:\n",
    "        return w2n.word_to_num(age)\n",
    "    # Si me da error, es que ya es un numero que se puede convertir de str a int\n",
    "    except ValueError:\n",
    "        return int(age)\n",
    "        \n",
    "# Aplicamos la función a la columna 'Age'\n",
    "df_limpia['Age'] = df_limpia['Age'].apply(palabra_a_numero)\n",
    "\n",
    "# Verificamos que ya no hay palabras\n",
    "print(df_limpia['Age'].unique())"
   ]
  },
  {
   "cell_type": "markdown",
   "metadata": {},
   "source": [
    "- `DailyRate`, `HourlyRate`, `MonthlyIncome`, `TotalWorkingYears`, `WorkLifeBalance`, `PerformanceRating` son columnas que incluyen valores numericos decimales pero que aparecen como tipo string en el DataFrame. Estos valores se pueden convertir en float. Habría que sustituir la coma por un punto y gestionar los 'nan' que son string para convertirlos en NaN.\n",
    "\n",
    "    Hay que tener en cuenta ciertas particularidades, ya que `DailyRate` tiene el símbolo dólar y los valores nulos de `HourlyRate` aparecen como 'Not available', "
   ]
  },
  {
   "cell_type": "code",
   "execution_count": 48,
   "metadata": {},
   "outputs": [
    {
     "name": "stdout",
     "output_type": "stream",
     "text": [
      "Los valores únicos de la columna 'DailyRate' son strings: ['684,0$' '699,0$' '532,0$' '359,0$' '1319,0$' '117,0$' '1435,0$' '635,0$'\n",
      " '1276,0$' '840,0$' '247,0$' '1369,0$' '201,0$' '1360,0$' '692,0$'\n",
      " '1398,0$' '286,0$' '1402,0$' '819,0$' '884,0$' '1238,0$' '515,0$'\n",
      " '1223,0$' '202,0$' '928,0$' '607,0$' '266,0$' '429,0$' '589,0$' 'nan$'\n",
      " '1180,0$' '1282,0$' '776,0$' '665,0$' '526,0$' '1034,0$' '1403,0$'\n",
      " '1499,0$' '580,0$' '859,0$' '263,0$' '1376,0$' '885,0$' '1003,0$'\n",
      " '1321,0$' '394,0$' '1372,0$' '1333,0$' '228,0$' '737,0$' '823,0$'\n",
      " '667,0$' '301,0$' '573,0$' '1329,0$' '630,0$' '1063,0$' '1017,0$'\n",
      " '1296,0$' '939,0$' '1355,0$' '1448,0$' '200,0$' '1202,0$' '404,0$'\n",
      " '208,0$' '813,0$' '465,0$' '1189,0$' '1001,0$' '1394,0$' '161,0$'\n",
      " '288,0$' '682,0$' '1354,0$' '147,0$' '119,0$' '1413,0$' '452,0$' '334,0$'\n",
      " '1132,0$' '982,0$' '480,0$' '1099,0$' '672,0$' '1379,0$' '583,0$'\n",
      " '1492,0$' '1050,0$' '469,0$' '237,0$' '1440,0$' '1291,0$' '1157,0$'\n",
      " '1336,0$' '1224,0$' '735,0$' '1389,0$' '638,0$' '1240,0$' '194,0$'\n",
      " '1339,0$' '111,0$' '1469,0$' '470,0$' '1232,0$' '1249,0$' '798,0$'\n",
      " '549,0$' '570,0$' '541,0$' '164,0$' '1117,0$' '619,0$' '319,0$' '956,0$'\n",
      " '1245,0$' '1397,0$' '527,0$' '213,0$' '882,0$' '330,0$' '406,0$' '217,0$'\n",
      " '481,0$' '669,0$' '1465,0$' '685,0$' '1062,0$' '177,0$' '1199,0$'\n",
      " '648,0$' '412,0$' '282,0$' '770,0$' '601,0$' '855,0$' '332,0$' '1326,0$'\n",
      " '748,0$' '405,0$' '790,0$' '971,0$' '1370,0$' '750,0$' '880,0$' '678,0$'\n",
      " '1179,0$' '350,0$' '1266,0$' '574,0$' '189,0$' '310,0$' '722,0$'\n",
      " '1219,0$' '994,0$' '721,0$' '853,0$' '427,0$' '852,0$' '1334,0$'\n",
      " '1093,0$' '967,0$' '989,0$' '1195,0$' '1045,0$' '829,0$' '663,0$'\n",
      " '1300,0$' '1105,0$' '906,0$' '849,0$' '1275,0$' '1218,0$' '422,0$'\n",
      " '1274,0$' '1076,0$' '1207,0$' '430,0$' '933,0$' '1184,0$' '586,0$'\n",
      " '890,0$' '379,0$' '1425,0$' '1188,0$' '938,0$' '1053,0$' '248,0$'\n",
      " '796,0$' '174,0$' '408,0$' '977,0$' '536,0$' '135,0$' '1476,0$' '587,0$'\n",
      " '495,0$' '523,0$' '507,0$' '1055,0$' '1445,0$' '218,0$' '447,0$'\n",
      " '1029,0$' '674,0$' '538,0$' '740,0$' '1234,0$' '170,0$' '1130,0$'\n",
      " '584,0$' '918,0$' '792,0$' '611,0$' '1383,0$' '867,0$' '706,0$' '728,0$'\n",
      " '311,0$' '556,0$' '937,0$' '1125,0$' '444,0$' '911,0$' '585,0$' '1392,0$'\n",
      " '1005,0$' '1299,0$' '655,0$' '746,0$' '632,0$' '658,0$' '1467,0$'\n",
      " '1312,0$' '249,0$' '802,0$' '689,0$' '1395,0$' '1436,0$' '1496,0$'\n",
      " '1480,0$' '313,0$' '894,0$' '290,0$' '1084,0$' '1002,0$' '1242,0$'\n",
      " '1052,0$' '944,0$' '771,0$' '1416,0$' '1327,0$' '488,0$' '1385,0$'\n",
      " '666,0$' '1315,0$' '442,0$' '950,0$' '691,0$' '1018,0$' '559,0$' '318,0$'\n",
      " '144,0$' '1171,0$' '143,0$' '1178,0$' '1107,0$' '645,0$' '1485,0$'\n",
      " '1116,0$' '163,0$' '561,0$' '426,0$' '509,0$' '258,0$' '525,0$' '238,0$'\n",
      " '482,0$' '397,0$' '243,0$' '806,0$' '1442,0$' '929,0$' '827,0$' '703,0$'\n",
      " '294,0$' '314,0$' '654,0$' '501,0$' '954,0$' '1434,0$' '657,0$' '240,0$'\n",
      " '791,0$' '676,0$' '436,0$' '760,0$' '661,0$' '1085,0$' '154,0$' '1283,0$'\n",
      " '616,0$' '498,0$' '530,0$' '805,0$' '903,0$' '1229,0$' '566,0$' '1441,0$'\n",
      " '153,0$' '1066,0$' '145,0$' '1109,0$' '124,0$' '300,0$' '1366,0$'\n",
      " '857,0$' '1204,0$' '1082,0$' '203,0$' '1308,0$' '718,0$' '593,0$'\n",
      " '1384,0$' '1361,0$' '1146,0$' '1316,0$' '363,0$' '1103,0$' '920,0$'\n",
      " '694,0$' '1429,0$' '531,0$' '621,0$' '604,0$' '325,0$' '1030,0$' '524,0$'\n",
      " '943,0$' '1009,0$' '817,0$' '930,0$' '1147,0$' '652,0$' '337,0$'\n",
      " '1136,0$' '326,0$' '377,0$' '1038,0$' '1490,0$' '1246,0$' '224,0$'\n",
      " '441,0$' '898,0$' '1313,0$' '1015,0$' '1387,0$' '1302,0$' '602,0$'\n",
      " '772,0$' '809,0$' '786,0$' '921,0$' '717,0$' '979,0$' '953,0$' '244,0$'\n",
      " '196,0$' '303,0$' '1092,0$' '261,0$' '1422,0$' '1137,0$' '511,0$'\n",
      " '1396,0$' '1096,0$' '1169,0$' '1239,0$' '157,0$' '754,0$' '1303,0$'\n",
      " '697,0$' '116,0$' '557,0$' '582,0$' '704,0$' '613,0$' '419,0$' '477,0$'\n",
      " '1211,0$' '505,0$' '269,0$' '553,0$' '1277,0$' '302,0$' '975,0$'\n",
      " '1318,0$' '881,0$' '466,0$' '945,0$' '433,0$' '991,0$' '1083,0$' '136,0$'\n",
      " '333,0$' '1462,0$' '1131,0$' '1023,0$' '1065,0$' '1115,0$' '1479,0$'\n",
      " '304,0$' '1368,0$' '828,0$' '799,0$' '142,0$' '446,0$' '254,0$' '1410,0$'\n",
      " '883,0$' '121,0$' '1343,0$' '490,0$' '1400,0$' '1332,0$' '1200,0$'\n",
      " '1102,0$' '1328,0$' '548,0$' '1214,0$' '120,0$' '841,0$' '1033,0$'\n",
      " '1452,0$' '1268,0$' '307,0$' '797,0$' '555,0$' '1377,0$' '210,0$'\n",
      " '483,0$' '575,0$' '1311,0$' '759,0$' '891,0$' '317,0$' '688,0$' '195,0$'\n",
      " '622,0$' '646,0$' '719,0$' '1012,0$' '1278,0$' '1222,0$' '1231,0$'\n",
      " '462,0$' '231,0$' '1089,0$' '1262,0$' '439,0$' '528,0$' '647,0$'\n",
      " '1097,0$' '942,0$' '966,0$' '168,0$' '299,0$' '999,0$' '1498,0$'\n",
      " '1439,0$' '1111,0$' '1174,0$' '172,0$' '401,0$' '866,0$' '571,0$'\n",
      " '1342,0$' '995,0$' '118,0$' '990,0$' '241,0$' '1470,0$' '492,0$'\n",
      " '1040,0$' '1320,0$' '146,0$' '1153,0$' '185,0$' '1297,0$' '1064,0$'\n",
      " '1351,0$' '468,0$' '1273,0$' '1141,0$' '1488,0$' '653,0$' '1225,0$'\n",
      " '1217,0$' '1127,0$' '1427,0$' '702,0$' '926,0$' '878,0$' '896,0$'\n",
      " '1401,0$' '675,0$' '1070,0$' '496,0$' '390,0$' '1220,0$' '1124,0$'\n",
      " '1046,0$' '267,0$' '443,0$' '1287,0$' '1420,0$' '562,0$' '650,0$'\n",
      " '141,0$' '715,0$' '376,0$' '932,0$' '471,0$' '180,0$' '1265,0$' '1075,0$'\n",
      " '1086,0$' '152,0$' '974,0$' '788,0$' '192,0$' '150,0$' '1167,0$' '206,0$'\n",
      " '736,0$' '322,0$' '683,0$' '1475,0$' '560,0$' '115,0$' '888,0$' '671,0$'\n",
      " '567,0$' '148,0$' '581,0$' '371,0$' '1181,0$' '1253,0$' '370,0$'\n",
      " '1194,0$' '572,0$' '355,0$' '783,0$' '155,0$' '508,0$' '642,0$' '1382,0$'\n",
      " '1037,0$' '1120,0$' '374,0$' '287,0$' '591,0$' '670,0$' '1346,0$'\n",
      " '103,0$' '673,0$' '705,0$' '1459,0$' '1443,0$' '1142,0$' '664,0$'\n",
      " '432,0$' '1353,0$' '489,0$' '807,0$' '1280,0$' '957,0$' '542,0$' '216,0$'\n",
      " '1150,0$' '364,0$' '1256,0$' '440,0$' '713,0$' '140,0$' '629,0$' '328,0$'\n",
      " '472,0$' '905,0$' '1151,0$' '644,0$' '992,0$' '1323,0$' '818,0$'\n",
      " '1431,0$' '976,0$' '832,0$' '916,0$' '1247,0$' '128,0$' '1158,0$'\n",
      " '996,0$' '1449,0$' '636,0$' '889,0$' '106,0$' '723,0$' '1482,0$' '738,0$'\n",
      " '1192,0$' '1309,0$' '544,0$' '641,0$' '756,0$' '895,0$' '1261,0$'\n",
      " '329,0$' '1362,0$' '1371,0$' '821,0$' '1381,0$' '1473,0$' '296,0$'\n",
      " '1349,0$' '986,0$' '413,0$' '988,0$' '1474,0$' '232,0$' '1236,0$'\n",
      " '1112,0$' '204,0$' '913,0$' '810,0$' '693,0$' '316,0$' '381,0$' '775,0$'\n",
      " '804,0$' '1090,0$' '346,0$' '725,0$' '182,0$' '384,0$' '1325,0$'\n",
      " '1258,0$' '1041,0$' '625,0$' '1418,0$' '1269,0$' '395,0$' '341,0$'\n",
      " '500,0$' '1454,0$' '617,0$' '1122,0$' '1198,0$' '188,0$' '335,0$'\n",
      " '461,0$' '1134,0$' '138,0$' '1206,0$' '109,0$' '277,0$' '265,0$' '342,0$'\n",
      " '1186,0$' '769,0$' '1176,0$' '1091,0$' '618,0$' '970,0$' '984,0$'\n",
      " '793,0$' '1182,0$' '603,0$' '874,0$' '367,0$' '199,0$' '1457,0$'\n",
      " '1421,0$' '1450,0$' '1212,0$' '1010,0$' '131,0$' '193,0$' '640,0$'\n",
      " '848,0$' '1138,0$' '256,0$' '935,0$' '458,0$' '662,0$' '499,0$' '949,0$'\n",
      " '383,0$' '1255,0$' '1221,0$' '981,0$' '1495,0$' '1193,0$' '467,0$'\n",
      " '271,0$' '410,0$' '1288,0$' '1108,0$' '437,0$' '457,0$' '634,0$' '546,0$'\n",
      " '711,0$' '448,0$' '365,0$' '763,0$' '486,0$' '392,0$' '727,0$' '741,0$'\n",
      " '552,0$' '506,0$' '1456,0$' '160,0$' '897,0$' '600,0$' '1054,0$' '428,0$'\n",
      " '343,0$' '1216,0$' '207,0$' '280,0$' '414,0$' '836,0$' '592,0$' '219,0$'\n",
      " '1079,0$' '1251,0$' '1168,0$' '1444,0$' '1154,0$' '234,0$' '529,0$'\n",
      " '1322,0$' '924,0$' '134,0$' '755,0$' '253,0$' '922,0$' '1365,0$' '306,0$'\n",
      " '1271,0$' '1404,0$' '1391,0$' '1464,0$' '1330,0$' '773,0$' '902,0$'\n",
      " '107,0$' '504,0$' '1358,0$' '824,0$' '594,0$' '734,0$' '766,0$' '431,0$'\n",
      " '1213,0$' '1373,0$' '1324,0$' '1123,0$' '391,0$' '125,0$' '1357,0$'\n",
      " '626,0$' '132,0$' '871,0$' '1031,0$' '1145,0$' '854,0$' '1411,0$'\n",
      " '252,0$' '833,0$' '1210,0$' '1463,0$' '812,0$' '1162,0$' '845,0$'\n",
      " '1144,0$' '156,0$' '464,0$' '1305,0$' '983,0$' '534,0$' '1306,0$'\n",
      " '1094,0$' '558,0$' '959,0$' '782,0$' '362,0$' '268,0$' '167,0$' '1243,0$'\n",
      " '720,0$' '868,0$' '1252,0$' '781,0$' '1272,0$' '129,0$' '1069,0$'\n",
      " '289,0$' '955,0$' '660,0$' '415,0$' '309,0$' '130,0$' '862,0$' '1098,0$'\n",
      " '969,0$' '373,0$' '599,0$' '968,0$' '830,0$' '1423,0$' '516,0$' '598,0$'\n",
      " '104,0$' '479,0$' '474,0$' '264,0$' '1059,0$' '563,0$' '1259,0$' '369,0$'\n",
      " '543,0$' '964,0$' '176,0$' '181,0$' '211,0$' '590,0$' '305,0$' '478,0$'\n",
      " '1294,0$' '1128,0$' '726,0$' '352,0$' '1172,0$' '605,0$' '1337,0$'\n",
      " '105,0$']\n",
      "Los valores únicos de la columna 'HourlyRate' son strings: ['51' '65' '58' '82' '45' '99' '91' '64' '55' '68' '49' '61' '79' '31'\n",
      " '69' '48' '80' '74' '98' '59' '33' '56' '66' '57' '53' '87' '81' '84'\n",
      " '32' '41' '92' '47' 'Not Available' '43' '86' '30' '42' '88' '96' '67'\n",
      " '62' '72' '78' '89' '52' '50' '90' '37' '94' '76' '60' '46' '83' '100'\n",
      " '40' '97' '54' '75' '39' '85' '63' '44' '93' '36' '35' '73' '71' '70'\n",
      " '38' '77' '95' '34']\n",
      "Los valores únicos de la columna 'MonthlyIncome' son strings: ['19537,0' '19999,0' '19232,0' '17169,0' nan '17174,0' '16595,0' '19973,0'\n",
      " '13402,0' '13206,0' '19545,0' '18041,0' '19246,0' '10748,0' '16752,0'\n",
      " '6201,0' '19845,0' '4001,0' '10447,0' '16064,0' '3210,0' '10266,0'\n",
      " '10475,0' '6162,0' '4721,0' '4615,0' '16959,0' '10306,0' '5406,0'\n",
      " '5902,0' '10855,0' '5914,0' '6646,0' '13973,0' '13320,0' '6687,0'\n",
      " '4735,0' '13872,0' '19045,0' '16015,0' '9613,0' '11510,0' '4306,0'\n",
      " '17046,0' '5067,0' '3692,0' '19847,0' '2308,0' '5747,0' '10422,0'\n",
      " '6347,0' '2348,0' '3072,0' '12490,0' '8020,0' '17068,0' '8943,0'\n",
      " '19272,0' '5577,0' '2691,0' '7403,0' '8823,0' '3579,0' '17779,0'\n",
      " '18213,0' '13577,0' '19190,0' '17123,0' '19187,0' '10008,0' '7988,0'\n",
      " '7083,0' '4723,0' '3407,0' '2929,0' '12031,0' '15427,0' '5126,0' '9619,0'\n",
      " '5010,0' '19033,0' '10400,0' '2793,0' '5674,0' '19197,0' '8412,0'\n",
      " '3348,0' '5309,0' '7654,0' '12808,0' '6586,0' '2519,0' '17099,0'\n",
      " '13120,0' '3131,0' '4444,0' '6674,0' '9852,0' '17861,0' '7446,0'\n",
      " '13757,0' '16598,0' '4285,0' '10124,0' '9714,0' '9924,0' '11245,0'\n",
      " '3069,0' '9241,0' '6472,0' '3055,0' '8321,0' '3143,0' '8578,0' '4197,0'\n",
      " '9888,0' '13341,0' '5677,0' '2909,0' '9526,0' '6825,0' '4424,0' '5441,0'\n",
      " '6074,0' '6146,0' '6172,0' '4668,0' '5605,0' '4319,0' '3564,0' '6261,0'\n",
      " '6804,0' '19436,0' '5828,0' '2455,0' '5055,0' '4682,0' '5257,0' '2119,0'\n",
      " '5974,0' '3034,0' '13212,0' '8392,0' '4051,0' '4805,0' '2741,0' '5337,0'\n",
      " '9434,0' '5396,0' '11159,0' '4960,0' '8793,0' '19189,0' '2216,0'\n",
      " '11713,0' '5304,0' '11103,0' '6632,0' '7587,0' '4335,0' '5980,0' '4244,0'\n",
      " '5228,0' '2700,0' '2366,0' '2329,0' '4294,0' '6725,0' '10325,0' '4447,0'\n",
      " '10845,0' '5472,0' '6385,0' '7525,0' '3660,0' '8740,0' '13499,0' '3491,0'\n",
      " '5220,0' '10252,0' '19740,0' '6209,0' '7094,0' '4534,0' '8500,0' '4639,0'\n",
      " '5363,0' '4081,0' '3578,0' '17328,0' '10793,0' '10851,0' '10466,0'\n",
      " '2362,0' '6439,0' '5769,0' '4385,0' '4066,0' '5206,0' '2655,0' '2570,0'\n",
      " '4502,0' '4968,0' '5147,0' '2718,0' '3539,0' '5468,0' '5813,0' '9667,0'\n",
      " '5154,0' '5675,0' '7314,0' '5098,0' '13570,0' '6712,0' '9991,0' '10248,0'\n",
      " '10938,0' '2593,0' '11878,0' '8095,0' '16856,0' '4537,0' '17924,0'\n",
      " '4014,0' '12742,0' '3376,0' '10482,0' '4249,0' '6549,0' '14411,0'\n",
      " '19586,0' '8237,0' '3211,0' '16704,0' '4774,0' '4568,0' '5993,0' '6499,0'\n",
      " '3452,0' '6397,0' '2725,0' '3622,0' '6180,0' '6274,0' '4381,0' '2559,0'\n",
      " '5488,0' '2514,0' '3196,0' '3420,0' '4087,0' '5368,0' '12936,0' '4221,0'\n",
      " '4963,0' '4200,0' '5006,0' '7639,0' '6502,0' '13525,0' '6349,0' '6380,0'\n",
      " '3102,0' '4556,0' '4230,0' '4859,0' '6322,0' '10761,0' '2973,0' '5204,0'\n",
      " '17399,0' '16885,0' '4323,0' '5155,0' '2936,0' '18789,0' '4883,0'\n",
      " '2029,0' '2996,0' '9278,0' '4162,0' '8853,0' '4876,0' '2141,0' '7756,0'\n",
      " '3936,0' '6842,0' '3989,0' '4930,0' '3702,0' '2705,0' '4448,0' '2379,0'\n",
      " '5487,0' '2810,0' '8938,0' '9936,0' '5454,0' '18740,0' '5473,0' '13503,0'\n",
      " '13549,0' '18172,0' '2774,0' '9439,0' '5265,0' '3815,0' '2389,0' '4000,0'\n",
      " '17584,0' '5661,0' '4869,0' '4649,0' '10496,0' '2768,0' '3408,0' '3755,0'\n",
      " '2187,0' '4258,0' '5326,0' '5485,0' '2782,0' '17639,0' '6062,0' '6288,0'\n",
      " '3424,0' '4194,0' '2532,0' '5666,0' '13726,0' '4107,0' '3597,0' '4115,0'\n",
      " '6272,0' '2517,0' '3904,0' '9204,0' '4373,0' '2064,0' '2430,0' '4877,0'\n",
      " '3760,0' '2013,0' '2974,0' '2766,0' '3377,0' '4213,0' '6513,0' '4284,0'\n",
      " '2226,0' '5561,0' '2144,0' '5373,0' '2897,0' '5321,0' '5410,0' '4850,0'\n",
      " '2001,0' '4404,0' '3944,0' '2960,0' '18947,0' '6465,0' '2683,0' '2014,0'\n",
      " '3441,0' '13664,0' '5021,0' '18844,0' '4739,0' '10650,0' '4317,0'\n",
      " '2024,0' '3058,0' '3929,0' '4425,0' '2328,0' '2657,0' '5940,0' '2622,0'\n",
      " '3212,0' '2911,0' '6931,0' '2176,0' '3230,0' '18665,0' '2789,0' '6410,0'\n",
      " '4941,0' '3983,0' '2904,0' '2696,0' '2174,0' '6755,0' '10965,0' '2543,0'\n",
      " '19406,0' '6538,0' '2258,0' '2218,0' '2654,0' '11935,0' '2546,0' '3894,0'\n",
      " '4262,0' '10527,0' '2400,0' '3681,0' '3447,0' '19513,0' '2659,0' '8847,0'\n",
      " '2045,0' '4851,0' '8120,0' '4577,0' '5405,0' '3708,0' '13770,0' '2297,0'\n",
      " '2450,0' '4342,0' '2572,0' '6500,0' '3149,0' '5324,0' '4382,0' '2553,0'\n",
      " '5933,0' '4403,0' '10934,0' '2022,0' '4256,0' '3580,0' '2899,0' '5562,0'\n",
      " '2377,0' '2404,0' '2799,0' '2811,0' '4377,0' '4240,0' '4227,0' '3917,0'\n",
      " '4969,0' '2042,0' '2821,0' '9957,0' '2207,0' '2070,0' '2791,0' '8224,0'\n",
      " '2610,0' '5731,0' '2539,0' '2376,0' '19081,0' '2743,0' '4538,0' '3867,0'\n",
      " '2080,0' '2096,0' '4627,0' '2302,0' '5071,0' '10596,0' '5467,0' '2394,0'\n",
      " '3629,0' '9362,0' '3229,0' '16422,0' '5647,0' '4400,0' '2066,0' '5486,0'\n",
      " '3162,0' '6651,0' '4898,0' '3180,0' '11244,0' '4069,0' '6392,0' '4855,0'\n",
      " '3312,0' '3117,0' '15202,0' '2580,0' '2166,0' '4374,0' '5505,0' '2587,0'\n",
      " '15972,0' '2305,0' '3433,0' '3477,0' '3907,0' '3445,0' '2760,0' '6294,0'\n",
      " '13116,0' '3591,0' '2105,0' '3902,0' '2662,0' '2062,0' '5507,0' '8103,0'\n",
      " '3978,0' '5399,0' '10448,0' '4440,0' '2660,0' '3375,0' '2269,0' '4787,0'\n",
      " '2809,0' '10854,0' '2571,0' '6142,0' '2496,0' '3419,0' '2501,0' '2566,0'\n",
      " '3920,0' '13964,0' '6540,0' '2244,0' '16184,0' '4233,0' '14814,0'\n",
      " '17159,0' '2318,0' '3617,0' '2684,0' '19237,0' '4422,0' '2552,0' '2678,0'\n",
      " '5171,0' '11916,0' '9380,0' '5878,0' '2468,0' '4127,0' '2148,0' '3886,0'\n",
      " '6667,0' '2090,0' '2086,0' '1951,0' '3022,0' '9724,0' '3388,0' '3038,0'\n",
      " '2322,0' '2926,0' '4505,0' '2835,0' '6553,0' '6673,0' '13591,0' '2177,0'\n",
      " '19517,0' '19202,0' '10048,0' '2723,0' '6644,0' '3161,0' '1420,0'\n",
      " '1200,0' '5238,0' '9985,0' '15992,0' '2370,0' '6781,0' '6653,0' '2851,0'\n",
      " '5258,0' '2476,0' '2285,0' '3448,0' '4558,0' '1702,0' '2564,0' '5070,0'\n",
      " '3780,0' '9824,0' '1878,0' '2340,0' '2127,0' '2033,0' '9602,0' '16627,0'\n",
      " '2083,0' '1009,0' '7861,0' '2642,0' '5121,0' '2694,0' '5094,0' '2274,0'\n",
      " '2314,0' '2380,0' '2008,0' '10552,0' '2259,0' '2413,0' '2121,0' '2479,0'\n",
      " '13194,0' '4163,0' '2600,0' '18303,0' '4777,0' '1052,0' '2461,0' '2596,0'\n",
      " '4728,0' '7351,0' '4766,0' '2827,0' '2853,0' '2290,0' '2107,0' '2210,0'\n",
      " '13191,0' '18265,0' '1118,0' '2372,0' '2838,0' '18061,0' '1611,0'\n",
      " '4768,0' '1274,0' '2561,0' '1563,0' '6388,0' '8376,0' '4841,0' '2074,0'\n",
      " '2972,0' '6815,0' '2690,0' '17567,0' '1569,0' '4187,0' '3306,0' '1393,0'\n",
      " '10883,0' '2862,0' '6735,0' '9756,0' '5294,0' '2437,0' '4071,0' '2956,0'\n",
      " '4648,0' '2804,0' '2439,0' '2856,0' '2933,0' '1091,0' '5151,0' '2863,0'\n",
      " '2858,0' '1129,0' '19431,0']\n",
      "Los valores únicos de la columna 'PerformanceRating' son strings: ['3,0' '4,0' nan]\n",
      "\n",
      "Los valores únicos de la columna 'TotalWorkingYears' son strings: [nan '34,0' '22,0' '28,0' '20,0' '21,0' '33,0' '40,0' '18,0' '25,0' '15,0'\n",
      " '17,0' '26,0' '16,0' '24,0' '14,0' '23,0' '27,0' '19,0' '11,0' '38,0'\n",
      " '37,0' '13,0' '12,0' '29,0' '10,0' '36,0' '35,0' '9,0' '31,0' '32,0'\n",
      " '8,0' '7,0' '30,0' '6,0' '5,0' '4,0' '3,0' '2,0' '1,0' '0,0']\n",
      "\n",
      "Los valores únicos de la columna 'WorkLifeBalance' son strings: ['3,0' nan '2,0' '4,0' '1,0']\n"
     ]
    }
   ],
   "source": [
    "print(f\"Los valores únicos de la columna 'DailyRate' son strings: {df_limpia['DailyRate'].unique()}\")\n",
    "print(f\"Los valores únicos de la columna 'HourlyRate' son strings: {df_limpia['HourlyRate'].unique()}\")\n",
    "print(f\"Los valores únicos de la columna 'MonthlyIncome' son strings: {df_limpia['MonthlyIncome'].unique()}\")\n",
    "print(f\"Los valores únicos de la columna 'PerformanceRating' son strings: {df_limpia['PerformanceRating'].unique()}\\n\")\n",
    "print(f\"Los valores únicos de la columna 'TotalWorkingYears' son strings: {df_limpia['TotalWorkingYears'].unique()}\\n\")\n",
    "print(f\"Los valores únicos de la columna 'WorkLifeBalance' son strings: {df_limpia['WorkLifeBalance'].unique()}\")"
   ]
  },
  {
   "cell_type": "code",
   "execution_count": 49,
   "metadata": {},
   "outputs": [],
   "source": [
    "def objeto_a_numero(cadena):\n",
    "    if isinstance(cadena, str):\n",
    "        cadena = cadena.replace('$', '').replace(',', '.')  # Reemplazar comas por puntos\n",
    "        if cadena == 'nan' or cadena == 'Not Available':  # Manejar el caso de 'nan'\n",
    "            return np.nan\n",
    "        else:\n",
    "            return float(cadena)  # Convertir a float y luego a int si no es 'nan'\n",
    "    else:\n",
    "        return cadena  # Devolver el valor original si no es una cadena\n",
    "    \n",
    "# Guardo en una lista las columnas que quiero convertir a enteros\n",
    "col_a_enteros = ['DailyRate','HourlyRate','MonthlyIncome','TotalWorkingYears','WorkLifeBalance','PerformanceRating']\n",
    "\n",
    "# Recorro la lista para aplicar a cada columna la funcion\n",
    "for col in col_a_enteros:\n",
    "    df_limpia[col] = df_limpia[col].apply(objeto_a_numero)\n",
    "    \n",
    "    # Si quisiera convertirlos a int podría hacer:\n",
    "    # df_limpia[col] = df_limpia[col].apply(objeto_a_numero).astype('Int64')\n",
    "    # En pandas, el tipo Int64 es un tipo de entero que soporta valores nulos (NaN), y cuando se usa este tipo,\n",
    "    # los valores nulos se representan como <NA> en lugar de NaN. "
   ]
  },
  {
   "cell_type": "code",
   "execution_count": 50,
   "metadata": {},
   "outputs": [
    {
     "data": {
      "text/plain": [
       "DailyRate            float64\n",
       "HourlyRate           float64\n",
       "MonthlyIncome        float64\n",
       "TotalWorkingYears    float64\n",
       "WorkLifeBalance      float64\n",
       "PerformanceRating    float64\n",
       "dtype: object"
      ]
     },
     "execution_count": 50,
     "metadata": {},
     "output_type": "execute_result"
    }
   ],
   "source": [
    "df_limpia[col_a_enteros].dtypes\n"
   ]
  },
  {
   "cell_type": "code",
   "execution_count": 51,
   "metadata": {},
   "outputs": [
    {
     "data": {
      "text/html": [
       "<div>\n",
       "<style scoped>\n",
       "    .dataframe tbody tr th:only-of-type {\n",
       "        vertical-align: middle;\n",
       "    }\n",
       "\n",
       "    .dataframe tbody tr th {\n",
       "        vertical-align: top;\n",
       "    }\n",
       "\n",
       "    .dataframe thead th {\n",
       "        text-align: right;\n",
       "    }\n",
       "</style>\n",
       "<table border=\"1\" class=\"dataframe\">\n",
       "  <thead>\n",
       "    <tr style=\"text-align: right;\">\n",
       "      <th></th>\n",
       "      <th>DailyRate</th>\n",
       "      <th>HourlyRate</th>\n",
       "      <th>MonthlyIncome</th>\n",
       "      <th>TotalWorkingYears</th>\n",
       "      <th>WorkLifeBalance</th>\n",
       "      <th>PerformanceRating</th>\n",
       "    </tr>\n",
       "  </thead>\n",
       "  <tbody>\n",
       "    <tr>\n",
       "      <th>1227</th>\n",
       "      <td>1324.0</td>\n",
       "      <td>81.0</td>\n",
       "      <td>NaN</td>\n",
       "      <td>12.0</td>\n",
       "      <td>2.0</td>\n",
       "      <td>NaN</td>\n",
       "    </tr>\n",
       "    <tr>\n",
       "      <th>150</th>\n",
       "      <td>282.0</td>\n",
       "      <td>58.0</td>\n",
       "      <td>19187.0</td>\n",
       "      <td>23.0</td>\n",
       "      <td>3.0</td>\n",
       "      <td>NaN</td>\n",
       "    </tr>\n",
       "    <tr>\n",
       "      <th>351</th>\n",
       "      <td>657.0</td>\n",
       "      <td>66.0</td>\n",
       "      <td>4335.0</td>\n",
       "      <td>11.0</td>\n",
       "      <td>2.0</td>\n",
       "      <td>3.0</td>\n",
       "    </tr>\n",
       "    <tr>\n",
       "      <th>1486</th>\n",
       "      <td>430.0</td>\n",
       "      <td>40.0</td>\n",
       "      <td>NaN</td>\n",
       "      <td>23.0</td>\n",
       "      <td>3.0</td>\n",
       "      <td>3.0</td>\n",
       "    </tr>\n",
       "    <tr>\n",
       "      <th>1117</th>\n",
       "      <td>1054.0</td>\n",
       "      <td>67.0</td>\n",
       "      <td>3445.0</td>\n",
       "      <td>6.0</td>\n",
       "      <td>2.0</td>\n",
       "      <td>3.0</td>\n",
       "    </tr>\n",
       "  </tbody>\n",
       "</table>\n",
       "</div>"
      ],
      "text/plain": [
       "      DailyRate  HourlyRate  MonthlyIncome  TotalWorkingYears  \\\n",
       "1227     1324.0        81.0            NaN               12.0   \n",
       "150       282.0        58.0        19187.0               23.0   \n",
       "351       657.0        66.0         4335.0               11.0   \n",
       "1486      430.0        40.0            NaN               23.0   \n",
       "1117     1054.0        67.0         3445.0                6.0   \n",
       "\n",
       "      WorkLifeBalance  PerformanceRating  \n",
       "1227              2.0                NaN  \n",
       "150               3.0                NaN  \n",
       "351               2.0                3.0  \n",
       "1486              3.0                3.0  \n",
       "1117              2.0                3.0  "
      ]
     },
     "execution_count": 51,
     "metadata": {},
     "output_type": "execute_result"
    }
   ],
   "source": [
    "df_limpia[col_a_enteros].sample(5)"
   ]
  },
  {
   "cell_type": "markdown",
   "metadata": {},
   "source": [
    "##### 3.1.2 Valores numéricos inconsistentes"
   ]
  },
  {
   "cell_type": "markdown",
   "metadata": {},
   "source": [
    "\n",
    "- La columna `DistanceFromHome` tiene valores negativos."
   ]
  },
  {
   "cell_type": "code",
   "execution_count": 52,
   "metadata": {},
   "outputs": [
    {
     "name": "stdout",
     "output_type": "stream",
     "text": [
      "Los valores únicos de la columna 'DistanceFromHome' incluyen algunos negativos: [  6   1   4   2   3  22  25   9   7  23  10  12  14 -13  15   8 -42  28\n",
      " -37   5  16 -35  26 -26  24  29 -25  17  21 -18 -10 -30 -27  20 -31 -29\n",
      " -39  18 -21 -15  11  13 -14  19 -33 -34 -46 -36 -19  27 -12 -23 -45 -28\n",
      " -47 -32 -24 -16 -22 -41 -49 -11 -48 -38 -20 -17 -43 -40 -44]\n",
      "\n",
      "Los valores nulos de la columna 'DistanceFromHome' son: 0\n"
     ]
    }
   ],
   "source": [
    "print(f\"Los valores únicos de la columna 'DistanceFromHome' incluyen algunos negativos: {df_limpia['DistanceFromHome'].unique()}\\n\")\n",
    "print(f\"Los valores nulos de la columna 'DistanceFromHome' son: {df_limpia['DistanceFromHome'].isnull().sum()}\")"
   ]
  },
  {
   "cell_type": "code",
   "execution_count": 53,
   "metadata": {},
   "outputs": [
    {
     "name": "stdout",
     "output_type": "stream",
     "text": [
      "La columna 'DistanceFromHome' no contiene valores negativos.\n"
     ]
    }
   ],
   "source": [
    "# Si la columna contiene valores numéricos, conviértelos a positivos si son negativos\n",
    "df_limpia['DistanceFromHome'] = df_limpia['DistanceFromHome'].abs()\n",
    "\n",
    "# Verifico si hay valores negativos en la columna 'DistanceFromHome'\n",
    "hay_negativos = (df_limpia['DistanceFromHome'] < 0).any()\n",
    "\n",
    "if hay_negativos:\n",
    "    print(\"La columna 'DistanceFromHome' contiene valores negativos.\")\n",
    "else:\n",
    "    print(\"La columna 'DistanceFromHome' no contiene valores negativos.\")"
   ]
  },
  {
   "cell_type": "code",
   "execution_count": 54,
   "metadata": {},
   "outputs": [
    {
     "name": "stdout",
     "output_type": "stream",
     "text": [
      "Después de limpiarla, los valores únicos de la columna 'DistanceFromHome' son: [ 6  1  4  2  3 22 25  9  7 23 10 12 14 13 15  8 42 28 37  5 16 35 26 24\n",
      " 29 17 21 18 30 27 20 31 39 11 19 33 34 46 36 45 47 32 41 49 48 38 43 40\n",
      " 44]\n",
      "\n"
     ]
    }
   ],
   "source": [
    "print(f\"Después de limpiarla, los valores únicos de la columna 'DistanceFromHome' son: {df_limpia['DistanceFromHome'].unique()}\\n\")"
   ]
  },
  {
   "cell_type": "code",
   "execution_count": 55,
   "metadata": {},
   "outputs": [],
   "source": [
    "# Eliminar los valores negativos de la columna DistanceFromHome\n",
    "#df_limpia['DistanceFromHome'] = df_limpia['DistanceFromHome'].apply(lambda x: x if x >= 0 else np.nan)\n",
    "\n",
    "# Convertir DistanceFromHome a entero\n",
    "#df_limpia['DistanceFromHome'] = df_limpia['DistanceFromHome'].astype('Int64')"
   ]
  },
  {
   "cell_type": "markdown",
   "metadata": {},
   "source": [
    "#### 3.2 Estandarizar booleanos o valores binarios"
   ]
  },
  {
   "cell_type": "markdown",
   "metadata": {},
   "source": [
    "\n",
    "- `Gender` (int64) cambiar 0 y 1 a algo mas legible\n",
    "- `RemoteWork` (object) estandarizar valores"
   ]
  },
  {
   "cell_type": "markdown",
   "metadata": {},
   "source": [
    "- `Gender`: La columna `Gender` tiene valores de 0 y 1, los cuales son pocos intutitivos. Los reemplazo por \"Male\" y \"Female\", o \"M\" y \"F\" por ejemplo."
   ]
  },
  {
   "cell_type": "code",
   "execution_count": 56,
   "metadata": {},
   "outputs": [
    {
     "name": "stdout",
     "output_type": "stream",
     "text": [
      "Los valores únicos de la columna 'Gender' son: [0 1]\n"
     ]
    }
   ],
   "source": [
    "print(f\"Los valores únicos de la columna 'Gender' son: {df_limpia['Gender'].unique()}\")"
   ]
  },
  {
   "cell_type": "code",
   "execution_count": 57,
   "metadata": {},
   "outputs": [
    {
     "name": "stdout",
     "output_type": "stream",
     "text": [
      "Después de la limpieza, los valores únicos de la columna 'Gender' son: ['female' 'male']\n"
     ]
    }
   ],
   "source": [
    "# Reemplazo los valores de la columna Gender por female y male\n",
    "df_limpia['Gender'] = df_limpia['Gender'].replace({0: 'female', 1: 'male'})\n",
    "print(f\"Después de la limpieza, los valores únicos de la columna 'Gender' son: {df_limpia['Gender'].unique()}\")"
   ]
  },
  {
   "cell_type": "markdown",
   "metadata": {},
   "source": [
    "- `RemoteWork`"
   ]
  },
  {
   "cell_type": "code",
   "execution_count": 58,
   "metadata": {},
   "outputs": [
    {
     "name": "stdout",
     "output_type": "stream",
     "text": [
      "Los valores únicos de la columna 'RemoteWork' son: ['Yes' '1' 'False' '0' 'True']\n"
     ]
    }
   ],
   "source": [
    "# Habría que estandarizar los datos 1/0, 'yes'/'no', 'false'/'true' del atributo RemoteWork\n",
    "print(f\"Los valores únicos de la columna 'RemoteWork' son: {df_limpia['RemoteWork'].unique()}\")"
   ]
  },
  {
   "cell_type": "code",
   "execution_count": 59,
   "metadata": {},
   "outputs": [
    {
     "name": "stdout",
     "output_type": "stream",
     "text": [
      "Después de la limpieza, los valores únicos de la columna 'RemoteWork' son: ['yes' 'no']\n"
     ]
    }
   ],
   "source": [
    "# Habría que estandarizar los datos 1/0, 'yes'/'no', 'false'/'true' del atributo RemoteWork\n",
    "# Para una mayor legibilidad usamos los valores True/False en Remote Work\n",
    "rw_datos_limpios = {\n",
    "    'Yes': 'yes',\n",
    "    '1': 'yes',\n",
    "    '0': 'no',\n",
    "    'True': 'yes',\n",
    "    'False': 'no'\n",
    "}\n",
    "\n",
    "df_limpia['RemoteWork'] = df_limpia['RemoteWork'].replace(rw_datos_limpios)\n",
    "print(f\"Después de la limpieza, los valores únicos de la columna 'RemoteWork' son: {df_limpia['RemoteWork'].unique()}\")"
   ]
  },
  {
   "cell_type": "markdown",
   "metadata": {},
   "source": [
    "#### 3.3 Estandarización strings"
   ]
  },
  {
   "cell_type": "markdown",
   "metadata": {},
   "source": [
    "\n",
    "- `BusinessTravel` (object) tiene guiones medios y bajos, estandarizar a guion bajo\n",
    "- `Department`(object) tiene espacios al principio y al final, así como símbolo como '&'\n",
    "- `JobRole`(object) iene espacios al principio y al final, y también letras en minusculas y en mayusculas\n",
    "- `MaritalStatus` (object) revisar valores con faltas ortograficas"
   ]
  },
  {
   "cell_type": "code",
   "execution_count": 60,
   "metadata": {},
   "outputs": [
    {
     "name": "stdout",
     "output_type": "stream",
     "text": [
      "Los valore únicos de la columna 'Attrition' son: ['No' 'Yes']\n",
      "\n",
      "Los valore únicos de la columna 'BusinessTravel' son: [nan 'travel_rarely' 'travel_frequently' 'non-travel']\n",
      "\n",
      "Los valore únicos de la columna 'Department' son: [nan ' Research & Development ' ' Sales ' ' Human Resources ']\n",
      "\n",
      "Los valore únicos de la columna 'EducationField' son: [nan 'Life Sciences' 'Technical Degree' 'Medical' 'Other' 'Marketing'\n",
      " 'Human Resources']\n",
      "\n",
      "Los valore únicos de la columna 'Gender' son: ['female' 'male']\n",
      "\n",
      "Los valore únicos de la columna 'JobRole' son: [' resEArch DIREcToR ' ' ManAGeR ' ' ManaGER ' ... ' sAlES ExECUTivE '\n",
      " ' SaLes ExecUtIVe ' ' mAnUfactURInG DiRECTOr ']\n",
      "\n",
      "Los valore únicos de la columna 'MaritalStatus' son: [nan 'Married' 'Divorced' 'Single' 'divorced' 'Marreid']\n",
      "\n"
     ]
    }
   ],
   "source": [
    "print(f\"Los valore únicos de la columna 'Attrition' son: {df_limpia['Attrition'].unique()}\\n\")\n",
    "print(f\"Los valore únicos de la columna 'BusinessTravel' son: {df_limpia['BusinessTravel'].unique()}\\n\")\n",
    "print(f\"Los valore únicos de la columna 'Department' son: {df_limpia['Department'].unique()}\\n\")\n",
    "print(f\"Los valore únicos de la columna 'EducationField' son: {df_limpia['EducationField'].unique()}\\n\")\n",
    "print(f\"Los valore únicos de la columna 'Gender' son: {df_limpia['Gender'].unique()}\\n\")\n",
    "print(f\"Los valore únicos de la columna 'JobRole' son: {df_limpia['JobRole'].unique()}\\n\")\n",
    "print(f\"Los valore únicos de la columna 'MaritalStatus' son: {df_limpia['MaritalStatus'].unique()}\\n\")"
   ]
  },
  {
   "cell_type": "code",
   "execution_count": 61,
   "metadata": {},
   "outputs": [
    {
     "data": {
      "text/html": [
       "<div>\n",
       "<style scoped>\n",
       "    .dataframe tbody tr th:only-of-type {\n",
       "        vertical-align: middle;\n",
       "    }\n",
       "\n",
       "    .dataframe tbody tr th {\n",
       "        vertical-align: top;\n",
       "    }\n",
       "\n",
       "    .dataframe thead th {\n",
       "        text-align: right;\n",
       "    }\n",
       "</style>\n",
       "<table border=\"1\" class=\"dataframe\">\n",
       "  <thead>\n",
       "    <tr style=\"text-align: right;\">\n",
       "      <th></th>\n",
       "      <th>Age</th>\n",
       "      <th>Attrition</th>\n",
       "      <th>BusinessTravel</th>\n",
       "      <th>DailyRate</th>\n",
       "      <th>Department</th>\n",
       "      <th>DistanceFromHome</th>\n",
       "      <th>Education</th>\n",
       "      <th>EducationField</th>\n",
       "      <th>EmployeeNumber</th>\n",
       "      <th>EnvironmentSatisfaction</th>\n",
       "      <th>Gender</th>\n",
       "      <th>HourlyRate</th>\n",
       "      <th>JobInvolvement</th>\n",
       "      <th>JobLevel</th>\n",
       "      <th>JobRole</th>\n",
       "      <th>JobSatisfaction</th>\n",
       "      <th>MaritalStatus</th>\n",
       "      <th>MonthlyIncome</th>\n",
       "      <th>MonthlyRate</th>\n",
       "      <th>NumCompaniesWorked</th>\n",
       "      <th>OverTime</th>\n",
       "      <th>PercentSalaryHike</th>\n",
       "      <th>PerformanceRating</th>\n",
       "      <th>RelationshipSatisfaction</th>\n",
       "      <th>StockOptionLevel</th>\n",
       "      <th>TotalWorkingYears</th>\n",
       "      <th>TrainingTimesLastYear</th>\n",
       "      <th>WorkLifeBalance</th>\n",
       "      <th>YearsAtCompany</th>\n",
       "      <th>YearsSinceLastPromotion</th>\n",
       "      <th>YearsWithCurrManager</th>\n",
       "      <th>DateBirth</th>\n",
       "      <th>RemoteWork</th>\n",
       "    </tr>\n",
       "  </thead>\n",
       "  <tbody>\n",
       "    <tr>\n",
       "      <th>1609</th>\n",
       "      <td>36</td>\n",
       "      <td>yes</td>\n",
       "      <td>travel_rarely</td>\n",
       "      <td>530.0</td>\n",
       "      <td>NaN</td>\n",
       "      <td>3</td>\n",
       "      <td>1</td>\n",
       "      <td>life_sciences</td>\n",
       "      <td>967,0</td>\n",
       "      <td>3</td>\n",
       "      <td>female</td>\n",
       "      <td>51.0</td>\n",
       "      <td>2</td>\n",
       "      <td>3</td>\n",
       "      <td>sales_executive</td>\n",
       "      <td>4</td>\n",
       "      <td>married</td>\n",
       "      <td>10325.0</td>\n",
       "      <td>5518</td>\n",
       "      <td>1</td>\n",
       "      <td>NaN</td>\n",
       "      <td>11</td>\n",
       "      <td>NaN</td>\n",
       "      <td>1</td>\n",
       "      <td>1</td>\n",
       "      <td>NaN</td>\n",
       "      <td>6</td>\n",
       "      <td>3.0</td>\n",
       "      <td>16</td>\n",
       "      <td>3</td>\n",
       "      <td>7</td>\n",
       "      <td>1987</td>\n",
       "      <td>no</td>\n",
       "    </tr>\n",
       "    <tr>\n",
       "      <th>1610</th>\n",
       "      <td>45</td>\n",
       "      <td>no</td>\n",
       "      <td>non_travel</td>\n",
       "      <td>805.0</td>\n",
       "      <td>NaN</td>\n",
       "      <td>4</td>\n",
       "      <td>2</td>\n",
       "      <td>NaN</td>\n",
       "      <td>972,0</td>\n",
       "      <td>3</td>\n",
       "      <td>female</td>\n",
       "      <td>57.0</td>\n",
       "      <td>3</td>\n",
       "      <td>2</td>\n",
       "      <td>laboratory_technician</td>\n",
       "      <td>2</td>\n",
       "      <td>NaN</td>\n",
       "      <td>4447.0</td>\n",
       "      <td>23163</td>\n",
       "      <td>1</td>\n",
       "      <td>NaN</td>\n",
       "      <td>12</td>\n",
       "      <td>3.0</td>\n",
       "      <td>2</td>\n",
       "      <td>0</td>\n",
       "      <td>NaN</td>\n",
       "      <td>5</td>\n",
       "      <td>2.0</td>\n",
       "      <td>9</td>\n",
       "      <td>0</td>\n",
       "      <td>8</td>\n",
       "      <td>1978</td>\n",
       "      <td>yes</td>\n",
       "    </tr>\n",
       "    <tr>\n",
       "      <th>1611</th>\n",
       "      <td>39</td>\n",
       "      <td>no</td>\n",
       "      <td>travel_rarely</td>\n",
       "      <td>903.0</td>\n",
       "      <td>NaN</td>\n",
       "      <td>13</td>\n",
       "      <td>5</td>\n",
       "      <td>NaN</td>\n",
       "      <td>NaN</td>\n",
       "      <td>13</td>\n",
       "      <td>female</td>\n",
       "      <td>41.0</td>\n",
       "      <td>4</td>\n",
       "      <td>3</td>\n",
       "      <td>sales_executive</td>\n",
       "      <td>3</td>\n",
       "      <td>single</td>\n",
       "      <td>NaN</td>\n",
       "      <td>2560</td>\n",
       "      <td>0</td>\n",
       "      <td>no</td>\n",
       "      <td>18</td>\n",
       "      <td>3.0</td>\n",
       "      <td>4</td>\n",
       "      <td>0</td>\n",
       "      <td>9.0</td>\n",
       "      <td>3</td>\n",
       "      <td>3.0</td>\n",
       "      <td>8</td>\n",
       "      <td>0</td>\n",
       "      <td>7</td>\n",
       "      <td>1984</td>\n",
       "      <td>yes</td>\n",
       "    </tr>\n",
       "    <tr>\n",
       "      <th>1612</th>\n",
       "      <td>36</td>\n",
       "      <td>no</td>\n",
       "      <td>non_travel</td>\n",
       "      <td>1229.0</td>\n",
       "      <td>NaN</td>\n",
       "      <td>8</td>\n",
       "      <td>4</td>\n",
       "      <td>technical_degree</td>\n",
       "      <td>990,0</td>\n",
       "      <td>1</td>\n",
       "      <td>female</td>\n",
       "      <td>84.0</td>\n",
       "      <td>3</td>\n",
       "      <td>2</td>\n",
       "      <td>sales_executive</td>\n",
       "      <td>4</td>\n",
       "      <td>divorced</td>\n",
       "      <td>NaN</td>\n",
       "      <td>25952</td>\n",
       "      <td>4</td>\n",
       "      <td>no</td>\n",
       "      <td>13</td>\n",
       "      <td>NaN</td>\n",
       "      <td>4</td>\n",
       "      <td>2</td>\n",
       "      <td>12.0</td>\n",
       "      <td>3</td>\n",
       "      <td>3.0</td>\n",
       "      <td>7</td>\n",
       "      <td>0</td>\n",
       "      <td>7</td>\n",
       "      <td>1987</td>\n",
       "      <td>yes</td>\n",
       "    </tr>\n",
       "    <tr>\n",
       "      <th>1613</th>\n",
       "      <td>46</td>\n",
       "      <td>no</td>\n",
       "      <td>NaN</td>\n",
       "      <td>566.0</td>\n",
       "      <td>NaN</td>\n",
       "      <td>7</td>\n",
       "      <td>2</td>\n",
       "      <td>medical</td>\n",
       "      <td>NaN</td>\n",
       "      <td>4</td>\n",
       "      <td>female</td>\n",
       "      <td>75.0</td>\n",
       "      <td>3</td>\n",
       "      <td>3</td>\n",
       "      <td>manufacturing_director</td>\n",
       "      <td>3</td>\n",
       "      <td>NaN</td>\n",
       "      <td>10845.0</td>\n",
       "      <td>24208</td>\n",
       "      <td>6</td>\n",
       "      <td>NaN</td>\n",
       "      <td>13</td>\n",
       "      <td>3.0</td>\n",
       "      <td>2</td>\n",
       "      <td>1</td>\n",
       "      <td>NaN</td>\n",
       "      <td>3</td>\n",
       "      <td>3.0</td>\n",
       "      <td>8</td>\n",
       "      <td>0</td>\n",
       "      <td>7</td>\n",
       "      <td>1977</td>\n",
       "      <td>no</td>\n",
       "    </tr>\n",
       "  </tbody>\n",
       "</table>\n",
       "</div>"
      ],
      "text/plain": [
       "      Age Attrition BusinessTravel  DailyRate Department  DistanceFromHome  \\\n",
       "1609   36       yes  travel_rarely      530.0        NaN                 3   \n",
       "1610   45        no     non_travel      805.0        NaN                 4   \n",
       "1611   39        no  travel_rarely      903.0        NaN                13   \n",
       "1612   36        no     non_travel     1229.0        NaN                 8   \n",
       "1613   46        no            NaN      566.0        NaN                 7   \n",
       "\n",
       "      Education    EducationField EmployeeNumber  EnvironmentSatisfaction  \\\n",
       "1609          1     life_sciences          967,0                        3   \n",
       "1610          2               NaN          972,0                        3   \n",
       "1611          5               NaN            NaN                       13   \n",
       "1612          4  technical_degree          990,0                        1   \n",
       "1613          2           medical            NaN                        4   \n",
       "\n",
       "      Gender  HourlyRate  JobInvolvement  JobLevel                 JobRole  \\\n",
       "1609  female        51.0               2         3         sales_executive   \n",
       "1610  female        57.0               3         2   laboratory_technician   \n",
       "1611  female        41.0               4         3         sales_executive   \n",
       "1612  female        84.0               3         2         sales_executive   \n",
       "1613  female        75.0               3         3  manufacturing_director   \n",
       "\n",
       "      JobSatisfaction MaritalStatus  MonthlyIncome  MonthlyRate  \\\n",
       "1609                4       married        10325.0         5518   \n",
       "1610                2           NaN         4447.0        23163   \n",
       "1611                3        single            NaN         2560   \n",
       "1612                4      divorced            NaN        25952   \n",
       "1613                3           NaN        10845.0        24208   \n",
       "\n",
       "      NumCompaniesWorked OverTime  PercentSalaryHike  PerformanceRating  \\\n",
       "1609                   1      NaN                 11                NaN   \n",
       "1610                   1      NaN                 12                3.0   \n",
       "1611                   0       no                 18                3.0   \n",
       "1612                   4       no                 13                NaN   \n",
       "1613                   6      NaN                 13                3.0   \n",
       "\n",
       "      RelationshipSatisfaction  StockOptionLevel  TotalWorkingYears  \\\n",
       "1609                         1                 1                NaN   \n",
       "1610                         2                 0                NaN   \n",
       "1611                         4                 0                9.0   \n",
       "1612                         4                 2               12.0   \n",
       "1613                         2                 1                NaN   \n",
       "\n",
       "      TrainingTimesLastYear  WorkLifeBalance  YearsAtCompany  \\\n",
       "1609                      6              3.0              16   \n",
       "1610                      5              2.0               9   \n",
       "1611                      3              3.0               8   \n",
       "1612                      3              3.0               7   \n",
       "1613                      3              3.0               8   \n",
       "\n",
       "      YearsSinceLastPromotion  YearsWithCurrManager  DateBirth RemoteWork  \n",
       "1609                        3                     7       1987         no  \n",
       "1610                        0                     8       1978        yes  \n",
       "1611                        0                     7       1984        yes  \n",
       "1612                        0                     7       1987        yes  \n",
       "1613                        0                     7       1977         no  "
      ]
     },
     "execution_count": 61,
     "metadata": {},
     "output_type": "execute_result"
    }
   ],
   "source": [
    "# Función para reemplazar guiones medios y los espacios por guiones bajos, poner todo en minuscula y sustituir el simbolo '&' por 'and'\n",
    "def estandarizar_texto(value):\n",
    "    if isinstance(value, str):\n",
    "        return value.lower().strip().replace('-', '_').replace(' ','_').replace('&','and')\n",
    "    return value\n",
    "\n",
    "# Aplicar la función a todas las columnas\n",
    "df_limpia= df_limpia.applymap(estandarizar_texto)\n",
    "\n",
    "# Verificar el resultado\n",
    "df_limpia.tail()"
   ]
  },
  {
   "cell_type": "code",
   "execution_count": 62,
   "metadata": {},
   "outputs": [
    {
     "name": "stdout",
     "output_type": "stream",
     "text": [
      "Después de la limpieza, los valores únicos de la columna 'Attrition' son: ['no' 'yes']\n",
      "\n",
      "Los valore únicos de la columna 'BusinessTravel' son: [nan 'travel_rarely' 'travel_frequently' 'non_travel']\n",
      "\n",
      "Los valore únicos de la columna 'Department' son: [nan 'research_and_development' 'sales' 'human_resources']\n",
      "\n",
      "Los valore únicos de la columna 'EducationField' son: [nan 'life_sciences' 'technical_degree' 'medical' 'other' 'marketing'\n",
      " 'human_resources']\n",
      "\n",
      "Los valore únicos de la columna 'Gender' son: ['female' 'male']\n",
      "\n",
      "Los valore únicos de la columna 'JobRole' son: ['research_director' 'manager' 'sales_executive' 'manufacturing_director'\n",
      " 'research_scientist' 'healthcare_representative' 'laboratory_technician'\n",
      " 'sales_representative' 'human_resources']\n",
      "\n",
      "Los valore únicos de la columna 'MaritalStatus' son: [nan 'married' 'divorced' 'single' 'marreid']\n",
      "\n"
     ]
    }
   ],
   "source": [
    "print(f\"Después de la limpieza, los valores únicos de la columna 'Attrition' son: {df_limpia['Attrition'].unique()}\\n\")\n",
    "print(f\"Los valore únicos de la columna 'BusinessTravel' son: {df_limpia['BusinessTravel'].unique()}\\n\")\n",
    "print(f\"Los valore únicos de la columna 'Department' son: {df_limpia['Department'].unique()}\\n\")\n",
    "print(f\"Los valore únicos de la columna 'EducationField' son: {df_limpia['EducationField'].unique()}\\n\")\n",
    "print(f\"Los valore únicos de la columna 'Gender' son: {df_limpia['Gender'].unique()}\\n\")\n",
    "print(f\"Los valore únicos de la columna 'JobRole' son: {df_limpia['JobRole'].unique()}\\n\")\n",
    "print(f\"Los valore únicos de la columna 'MaritalStatus' son: {df_limpia['MaritalStatus'].unique()}\\n\")"
   ]
  },
  {
   "cell_type": "markdown",
   "metadata": {},
   "source": [
    "- En algunos valores de las columnas categóricas, por ejemplo, en la columna `MaritalStatus` en vez de \"Married\" en algunas filas aparece \"Marreid\". También aparecía 'Divorced' y 'divorced' como valores diferentes, pero con la función anterior ya se ha solucionado."
   ]
  },
  {
   "cell_type": "code",
   "execution_count": 63,
   "metadata": {},
   "outputs": [
    {
     "name": "stdout",
     "output_type": "stream",
     "text": [
      "Los valores únicos de la columna 'MaritalStatus' son: [nan 'married' 'divorced' 'single' 'marreid']\n"
     ]
    }
   ],
   "source": [
    "print(f\"Los valores únicos de la columna 'MaritalStatus' son: {df_limpia['MaritalStatus'].unique()}\")"
   ]
  },
  {
   "cell_type": "code",
   "execution_count": 64,
   "metadata": {},
   "outputs": [
    {
     "name": "stdout",
     "output_type": "stream",
     "text": [
      "Después de la limpieza, los valores únicos de la columna 'MaritalStatus' son: [nan 'married' 'divorced' 'single']\n"
     ]
    }
   ],
   "source": [
    "# Uso el método replace y compruebo que se ha cambiado\n",
    "df_limpia['MaritalStatus'] = df_limpia['MaritalStatus'].replace('marreid', 'married')\n",
    "print(f\"Después de la limpieza, los valores únicos de la columna 'MaritalStatus' son: {df_limpia['MaritalStatus'].unique()}\")"
   ]
  },
  {
   "cell_type": "markdown",
   "metadata": {},
   "source": [
    "## ÚLTIMO PASO"
   ]
  },
  {
   "cell_type": "markdown",
   "metadata": {},
   "source": [
    "Guardamos el DataFrame con datos transformados en un nuevo archivo CSV."
   ]
  },
  {
   "cell_type": "code",
   "execution_count": 66,
   "metadata": {},
   "outputs": [
    {
     "name": "stdout",
     "output_type": "stream",
     "text": [
      "El DataFrame modificado ha sido guardado en 'hr_data_limpio.csv'.\n"
     ]
    }
   ],
   "source": [
    "# Guardamos el DataFrame limpio en un nuevo archivo CSV\n",
    "output_file_path = 'hr_data_limpio.csv'\n",
    "df_limpia.to_csv(output_file_path, index=False)\n",
    "print(f\"El DataFrame modificado ha sido guardado en '{output_file_path}'.\")"
   ]
  }
 ],
 "metadata": {
  "kernelspec": {
   "display_name": "Python 3",
   "language": "python",
   "name": "python3"
  },
  "language_info": {
   "codemirror_mode": {
    "name": "ipython",
    "version": 3
   },
   "file_extension": ".py",
   "mimetype": "text/x-python",
   "name": "python",
   "nbconvert_exporter": "python",
   "pygments_lexer": "ipython3",
   "version": "3.11.5"
  }
 },
 "nbformat": 4,
 "nbformat_minor": 2
}
